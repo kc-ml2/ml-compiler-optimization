{
 "cells": [
  {
   "cell_type": "code",
   "execution_count": 1,
   "id": "5fc54a10",
   "metadata": {},
   "outputs": [],
   "source": [
    "import numpy as np\n",
    "\n",
    "import compiler_gym\n",
    "from compiler_gym.wrappers import RuntimePointEstimateReward"
   ]
  },
  {
   "cell_type": "code",
   "execution_count": 2,
   "id": "bf213aad",
   "metadata": {},
   "outputs": [],
   "source": [
    "estimator = np.median"
   ]
  },
  {
   "cell_type": "code",
   "execution_count": 3,
   "id": "8b1dd320",
   "metadata": {},
   "outputs": [],
   "source": [
    "env = compiler_gym.make(\n",
    "    'llvm-v0',\n",
    "    benchmark='benchmark://cbench-v1/susan',\n",
    "    observation_space='Autophase'\n",
    ")"
   ]
  },
  {
   "cell_type": "code",
   "execution_count": 4,
   "id": "4afff6fd",
   "metadata": {},
   "outputs": [
    {
     "name": "stdout",
     "output_type": "stream",
     "text": [
      "benchmark://cbench-v1/adpcm node size: 1184 edge size: 2105\n",
      "benchmark://cbench-v1/bitcount node size: 1826 edge size: 3146\n",
      "benchmark://cbench-v1/blowfish node size: 8684 edge size: 14976\n",
      "benchmark://cbench-v1/bzip2 node size: 59412 edge size: 105845\n",
      "benchmark://cbench-v1/crc32 node size: 512 edge size: 907\n",
      "benchmark://cbench-v1/dijkstra node size: 891 edge size: 1593\n",
      "benchmark://cbench-v1/ghostscript node size: 831232 edge size: 1501132\n",
      "benchmark://cbench-v1/gsm node size: 31206 edge size: 54381\n",
      "benchmark://cbench-v1/ispell node size: 29664 edge size: 53754\n",
      "benchmark://cbench-v1/jpeg-c node size: 128909 edge size: 231283\n",
      "benchmark://cbench-v1/jpeg-d node size: 123729 edge size: 221954\n",
      "benchmark://cbench-v1/lame node size: 102545 edge size: 181693\n",
      "benchmark://cbench-v1/patricia node size: 2630 edge size: 4772\n",
      "benchmark://cbench-v1/qsort node size: 1351 edge size: 2380\n",
      "benchmark://cbench-v1/rijndael node size: 13060 edge size: 23407\n",
      "benchmark://cbench-v1/sha node size: 1739 edge size: 3058\n",
      "benchmark://cbench-v1/stringsearch node size: 2700 edge size: 4831\n",
      "benchmark://cbench-v1/stringsearch2 node size: 981 edge size: 1823\n",
      "benchmark://cbench-v1/susan node size: 29612 edge size: 49379\n",
      "benchmark://cbench-v1/tiff2bw node size: 122152 edge size: 215010\n",
      "benchmark://cbench-v1/tiff2rgba node size: 121855 edge size: 214554\n",
      "benchmark://cbench-v1/tiffdither node size: 121387 edge size: 213709\n",
      "benchmark://cbench-v1/tiffmedian node size: 127169 edge size: 223991\n"
     ]
    }
   ],
   "source": [
    "bms = list(env.datasets['benchmark://cbench-v1'].benchmark_uris())\n",
    "for bm in bms:\n",
    "    env = compiler_gym.make(\n",
    "        'llvm-v0',\n",
    "        benchmark=bm,\n",
    "        observation_space='Programl'\n",
    "    )\n",
    "    obs = env.reset()\n",
    "    n = obs.number_of_nodes()\n",
    "    e = obs.number_of_edges()\n",
    "    print(bm, 'node size:', n, 'edge size:', e)"
   ]
  },
  {
   "cell_type": "code",
   "execution_count": 8,
   "id": "980a4082",
   "metadata": {},
   "outputs": [],
   "source": [
    "def make_env(bm):\n",
    "    env = compiler_gym.make(\n",
    "        'llvm-v0',\n",
    "        benchmark=bm,\n",
    "        observation_space='Autophase'\n",
    "    )\n",
    "    env = RuntimePointEstimateReward(env)\n",
    "\n",
    "    return env"
   ]
  },
  {
   "cell_type": "code",
   "execution_count": 104,
   "id": "86850824",
   "metadata": {},
   "outputs": [],
   "source": [
    "def runtime(env):\n",
    "    env.unwrapped.observation[\"Runtime\"]  # warmup\n",
    "    runtimes_o3 = env.unwrapped.observation[\"Runtime\"].tolist()\n",
    "    \n",
    "    return estimator(runtimes_o3)"
   ]
  },
  {
   "cell_type": "code",
   "execution_count": 105,
   "id": "33c95597",
   "metadata": {},
   "outputs": [],
   "source": [
    "RUNNABLE_BMS = [\n",
    "    'benchmark://cbench-v1/bitcount',\n",
    "    'benchmark://cbench-v1/blowfish',\n",
    "    'benchmark://cbench-v1/bzip2',\n",
    "    'benchmark://cbench-v1/crc32',\n",
    "    'benchmark://cbench-v1/dijkstra',\n",
    "    'benchmark://cbench-v1/gsm',\n",
    "    'benchmark://cbench-v1/jpeg-c',\n",
    "    'benchmark://cbench-v1/jpeg-d',\n",
    "    'benchmark://cbench-v1/patricia',\n",
    "    'benchmark://cbench-v1/qsort',\n",
    "    'benchmark://cbench-v1/sha',\n",
    "    'benchmark://cbench-v1/stringsearch',\n",
    "    'benchmark://cbench-v1/stringsearch2',\n",
    "    'benchmark://cbench-v1/susan',\n",
    "    'benchmark://cbench-v1/tiff2bw',\n",
    "    'benchmark://cbench-v1/tiff2rgba',\n",
    "    'benchmark://cbench-v1/tiffdither',\n",
    "    'benchmark://cbench-v1/tiffmedian'\n",
    "]"
   ]
  },
  {
   "cell_type": "code",
   "execution_count": 107,
   "id": "43c281ea",
   "metadata": {},
   "outputs": [],
   "source": [
    "res = {}\n",
    "o3_res = {}\n",
    "for bm in RUNNABLE_BMS:\n",
    "    env = make_env(bm)\n",
    "    env.reset()\n",
    "    res[bm] = runtime\n",
    "    \n",
    "    env.reset()\n",
    "    env.send_param(\"llvm.apply_baseline_optimizations\", \"-O3\")\n",
    "    runtime = runtime(env)\n",
    "    res[bm] = runtime"
   ]
  },
  {
   "cell_type": "code",
   "execution_count": 108,
   "id": "6e6eac85",
   "metadata": {},
   "outputs": [
    {
     "data": {
      "text/plain": [
       "{'benchmark://cbench-v1/bitcount': 0.1503615,\n",
       " 'benchmark://cbench-v1/blowfish': 0.002703,\n",
       " 'benchmark://cbench-v1/bzip2': 0.0991975,\n",
       " 'benchmark://cbench-v1/crc32': 0.0045260000000000005,\n",
       " 'benchmark://cbench-v1/dijkstra': 0.002539,\n",
       " 'benchmark://cbench-v1/gsm': 0.035831,\n",
       " 'benchmark://cbench-v1/jpeg-c': 0.018051,\n",
       " 'benchmark://cbench-v1/jpeg-d': 0.0078865,\n",
       " 'benchmark://cbench-v1/patricia': 0.0033185000000000003,\n",
       " 'benchmark://cbench-v1/qsort': 0.042762999999999995,\n",
       " 'benchmark://cbench-v1/sha': 0.003247,\n",
       " 'benchmark://cbench-v1/stringsearch': 0.0035465,\n",
       " 'benchmark://cbench-v1/stringsearch2': 0.0106425,\n",
       " 'benchmark://cbench-v1/susan': 0.030037,\n",
       " 'benchmark://cbench-v1/tiff2bw': 0.009766500000000001,\n",
       " 'benchmark://cbench-v1/tiff2rgba': 0.011611,\n",
       " 'benchmark://cbench-v1/tiffdither': 0.0083425,\n",
       " 'benchmark://cbench-v1/tiffmedian': 0.01333}"
      ]
     },
     "execution_count": 108,
     "metadata": {},
     "output_type": "execute_result"
    }
   ],
   "source": [
    "res"
   ]
  },
  {
   "cell_type": "code",
   "execution_count": 15,
   "id": "a099edeb",
   "metadata": {},
   "outputs": [
    {
     "data": {
      "text/plain": [
       "<bound method CompilerEnvWrapper.reset of <RuntimePointEstimateReward<LlvmEnv<llvm-v0>>>>"
      ]
     },
     "execution_count": 15,
     "metadata": {},
     "output_type": "execute_result"
    }
   ],
   "source": [
    "env."
   ]
  },
  {
   "cell_type": "code",
   "execution_count": null,
   "id": "18caebcd",
   "metadata": {},
   "outputs": [],
   "source": []
  }
 ],
 "metadata": {
  "kernelspec": {
   "display_name": "Python 3 (ipykernel)",
   "language": "python",
   "name": "python3"
  },
  "language_info": {
   "codemirror_mode": {
    "name": "ipython",
    "version": 3
   },
   "file_extension": ".py",
   "mimetype": "text/x-python",
   "name": "python",
   "nbconvert_exporter": "python",
   "pygments_lexer": "ipython3",
   "version": "3.9.16"
  }
 },
 "nbformat": 4,
 "nbformat_minor": 5
}
