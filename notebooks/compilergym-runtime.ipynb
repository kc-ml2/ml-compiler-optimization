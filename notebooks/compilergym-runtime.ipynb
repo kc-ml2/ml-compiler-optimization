{
 "cells": [
  {
   "cell_type": "code",
   "execution_count": 15,
   "id": "5fc54a10",
   "metadata": {},
   "outputs": [],
   "source": [
    "import numpy as np\n",
    "import pandas as pd\n",
    "import compiler_gym\n",
    "from compiler_gym.wrappers import RuntimePointEstimateReward\n",
    "\n",
    "from compopt.constants import RUNNABLE_BMS"
   ]
  },
  {
   "cell_type": "code",
   "execution_count": 38,
   "id": "b9445020",
   "metadata": {},
   "outputs": [],
   "source": [
    "from compopt.optimization_target import OptimizationTarget"
   ]
  },
  {
   "cell_type": "code",
   "execution_count": 49,
   "id": "2693403e",
   "metadata": {},
   "outputs": [],
   "source": [
    "target = OptimizationTarget(OptimizationTarget.RUNTIME)"
   ]
  },
  {
   "cell_type": "code",
   "execution_count": 2,
   "id": "bf213aad",
   "metadata": {},
   "outputs": [],
   "source": [
    "estimator = np.median"
   ]
  },
  {
   "cell_type": "code",
   "execution_count": 61,
   "id": "3aa9aa53",
   "metadata": {},
   "outputs": [
    {
     "data": {
      "text/plain": [
       "['benchmark://chstone-v0/adpcm',\n",
       " 'benchmark://chstone-v0/aes',\n",
       " 'benchmark://chstone-v0/blowfish',\n",
       " 'benchmark://chstone-v0/dfadd',\n",
       " 'benchmark://chstone-v0/dfdiv',\n",
       " 'benchmark://chstone-v0/dfmul',\n",
       " 'benchmark://chstone-v0/dfsin',\n",
       " 'benchmark://chstone-v0/gsm',\n",
       " 'benchmark://chstone-v0/jpeg',\n",
       " 'benchmark://chstone-v0/mips',\n",
       " 'benchmark://chstone-v0/motion',\n",
       " 'benchmark://chstone-v0/sha']"
      ]
     },
     "execution_count": 61,
     "metadata": {},
     "output_type": "execute_result"
    }
   ],
   "source": [
    "list(env.datasets['benchmark://chstone-v0'].benchmark_uris())"
   ]
  },
  {
   "cell_type": "code",
   "execution_count": 3,
   "id": "8b1dd320",
   "metadata": {},
   "outputs": [],
   "source": [
    "env = compiler_gym.make(\n",
    "    'llvm-v0',\n",
    "    benchmark='benchmark://cbench-v1/susan',\n",
    "    observation_space='Autophase'\n",
    ")"
   ]
  },
  {
   "cell_type": "code",
   "execution_count": 4,
   "id": "4afff6fd",
   "metadata": {},
   "outputs": [
    {
     "name": "stdout",
     "output_type": "stream",
     "text": [
      "benchmark://cbench-v1/adpcm node size: 1184 edge size: 2105\n",
      "benchmark://cbench-v1/bitcount node size: 1826 edge size: 3146\n",
      "benchmark://cbench-v1/blowfish node size: 8684 edge size: 14976\n",
      "benchmark://cbench-v1/bzip2 node size: 59412 edge size: 105845\n",
      "benchmark://cbench-v1/crc32 node size: 512 edge size: 907\n",
      "benchmark://cbench-v1/dijkstra node size: 891 edge size: 1593\n"
     ]
    },
    {
     "ename": "KeyboardInterrupt",
     "evalue": "",
     "output_type": "error",
     "traceback": [
      "\u001b[0;31m---------------------------------------------------------------------------\u001b[0m",
      "\u001b[0;31mFileNotFoundError\u001b[0m                         Traceback (most recent call last)",
      "File \u001b[0;32m~/.pyenv/versions/3.9.16/envs/py39/lib/python3.9/site-packages/compiler_gym/service/client_service_compiler_env.py:760\u001b[0m, in \u001b[0;36mClientServiceCompilerEnv._reset\u001b[0;34m(self, benchmark, action_space, observation_space, reward_space, timeout, retry_count)\u001b[0m\n\u001b[1;32m    759\u001b[0m \u001b[38;5;28;01mtry\u001b[39;00m:\n\u001b[0;32m--> 760\u001b[0m     error, reply \u001b[38;5;241m=\u001b[39m \u001b[43m_call_with_error\u001b[49m\u001b[43m(\u001b[49m\n\u001b[1;32m    761\u001b[0m \u001b[43m        \u001b[49m\u001b[38;5;28;43mself\u001b[39;49m\u001b[38;5;241;43m.\u001b[39;49m\u001b[43mservice\u001b[49m\u001b[38;5;241;43m.\u001b[39;49m\u001b[43mstub\u001b[49m\u001b[38;5;241;43m.\u001b[39;49m\u001b[43mStartSession\u001b[49m\u001b[43m,\u001b[49m\u001b[43m \u001b[49m\u001b[43mstart_session_request\u001b[49m\n\u001b[1;32m    762\u001b[0m \u001b[43m    \u001b[49m\u001b[43m)\u001b[49m\n\u001b[1;32m    763\u001b[0m     \u001b[38;5;28;01mif\u001b[39;00m error:\n",
      "File \u001b[0;32m~/.pyenv/versions/3.9.16/envs/py39/lib/python3.9/site-packages/compiler_gym/service/client_service_compiler_env.py:695\u001b[0m, in \u001b[0;36mClientServiceCompilerEnv._reset.<locals>._call_with_error\u001b[0;34m(stub_method, *args, **kwargs)\u001b[0m\n\u001b[1;32m    694\u001b[0m \u001b[38;5;28;01mtry\u001b[39;00m:\n\u001b[0;32m--> 695\u001b[0m     \u001b[38;5;28;01mreturn\u001b[39;00m \u001b[38;5;28;01mNone\u001b[39;00m, \u001b[38;5;28;43mself\u001b[39;49m\u001b[38;5;241;43m.\u001b[39;49m\u001b[43mservice\u001b[49m\u001b[43m(\u001b[49m\u001b[43mstub_method\u001b[49m\u001b[43m,\u001b[49m\u001b[43m \u001b[49m\u001b[38;5;241;43m*\u001b[39;49m\u001b[43margs\u001b[49m\u001b[43m,\u001b[49m\u001b[43m \u001b[49m\u001b[38;5;241;43m*\u001b[39;49m\u001b[38;5;241;43m*\u001b[39;49m\u001b[43mkwargs\u001b[49m\u001b[43m)\u001b[49m\n\u001b[1;32m    696\u001b[0m \u001b[38;5;28;01mexcept\u001b[39;00m (ServiceError, ServiceTransportError, \u001b[38;5;167;01mTimeoutError\u001b[39;00m) \u001b[38;5;28;01mas\u001b[39;00m e:\n",
      "File \u001b[0;32m~/.pyenv/versions/3.9.16/envs/py39/lib/python3.9/site-packages/compiler_gym/service/connection.py:813\u001b[0m, in \u001b[0;36mCompilerGymServiceConnection.__call__\u001b[0;34m(self, stub_method, request, timeout, max_retries, retry_wait_seconds, retry_wait_backoff_exponent)\u001b[0m\n\u001b[1;32m    812\u001b[0m     \u001b[38;5;28mself\u001b[39m\u001b[38;5;241m.\u001b[39m_establish_connection()\n\u001b[0;32m--> 813\u001b[0m \u001b[38;5;28;01mreturn\u001b[39;00m \u001b[38;5;28;43mself\u001b[39;49m\u001b[38;5;241;43m.\u001b[39;49m\u001b[43mconnection\u001b[49m\u001b[43m(\u001b[49m\n\u001b[1;32m    814\u001b[0m \u001b[43m    \u001b[49m\u001b[43mstub_method\u001b[49m\u001b[43m,\u001b[49m\n\u001b[1;32m    815\u001b[0m \u001b[43m    \u001b[49m\u001b[43mrequest\u001b[49m\u001b[43m,\u001b[49m\n\u001b[1;32m    816\u001b[0m \u001b[43m    \u001b[49m\u001b[43mtimeout\u001b[49m\u001b[38;5;241;43m=\u001b[39;49m\u001b[43mtimeout\u001b[49m\u001b[43m,\u001b[49m\n\u001b[1;32m    817\u001b[0m \u001b[43m    \u001b[49m\u001b[43mmax_retries\u001b[49m\u001b[38;5;241;43m=\u001b[39;49m\u001b[43mmax_retries\u001b[49m\u001b[43m \u001b[49m\u001b[38;5;129;43;01mor\u001b[39;49;00m\u001b[43m \u001b[49m\u001b[38;5;28;43mself\u001b[39;49m\u001b[38;5;241;43m.\u001b[39;49m\u001b[43mopts\u001b[49m\u001b[38;5;241;43m.\u001b[39;49m\u001b[43mrpc_max_retries\u001b[49m\u001b[43m,\u001b[49m\n\u001b[1;32m    818\u001b[0m \u001b[43m    \u001b[49m\u001b[43mretry_wait_seconds\u001b[49m\u001b[38;5;241;43m=\u001b[39;49m\u001b[43mretry_wait_seconds\u001b[49m\u001b[43m \u001b[49m\u001b[38;5;129;43;01mor\u001b[39;49;00m\u001b[43m \u001b[49m\u001b[38;5;28;43mself\u001b[39;49m\u001b[38;5;241;43m.\u001b[39;49m\u001b[43mopts\u001b[49m\u001b[38;5;241;43m.\u001b[39;49m\u001b[43mretry_wait_seconds\u001b[49m\u001b[43m,\u001b[49m\n\u001b[1;32m    819\u001b[0m \u001b[43m    \u001b[49m\u001b[43mretry_wait_backoff_exponent\u001b[49m\u001b[38;5;241;43m=\u001b[39;49m\u001b[43m(\u001b[49m\n\u001b[1;32m    820\u001b[0m \u001b[43m        \u001b[49m\u001b[43mretry_wait_backoff_exponent\u001b[49m\u001b[43m \u001b[49m\u001b[38;5;129;43;01mor\u001b[39;49;00m\u001b[43m \u001b[49m\u001b[38;5;28;43mself\u001b[39;49m\u001b[38;5;241;43m.\u001b[39;49m\u001b[43mopts\u001b[49m\u001b[38;5;241;43m.\u001b[39;49m\u001b[43mretry_wait_backoff_exponent\u001b[49m\n\u001b[1;32m    821\u001b[0m \u001b[43m    \u001b[49m\u001b[43m)\u001b[49m\u001b[43m,\u001b[49m\n\u001b[1;32m    822\u001b[0m \u001b[43m\u001b[49m\u001b[43m)\u001b[49m\n",
      "File \u001b[0;32m~/.pyenv/versions/3.9.16/envs/py39/lib/python3.9/site-packages/compiler_gym/service/connection.py:217\u001b[0m, in \u001b[0;36mConnection.__call__\u001b[0;34m(self, stub_method, request, timeout, max_retries, retry_wait_seconds, retry_wait_backoff_exponent)\u001b[0m\n\u001b[1;32m    216\u001b[0m \u001b[38;5;28;01melif\u001b[39;00m e\u001b[38;5;241m.\u001b[39mcode() \u001b[38;5;241m==\u001b[39m grpc\u001b[38;5;241m.\u001b[39mStatusCode\u001b[38;5;241m.\u001b[39mNOT_FOUND:\n\u001b[0;32m--> 217\u001b[0m     \u001b[38;5;28;01mraise\u001b[39;00m \u001b[38;5;167;01mFileNotFoundError\u001b[39;00m(e\u001b[38;5;241m.\u001b[39mdetails()) \u001b[38;5;28;01mfrom\u001b[39;00m \u001b[38;5;28mNone\u001b[39m\n\u001b[1;32m    218\u001b[0m \u001b[38;5;28;01melif\u001b[39;00m e\u001b[38;5;241m.\u001b[39mcode() \u001b[38;5;241m==\u001b[39m grpc\u001b[38;5;241m.\u001b[39mStatusCode\u001b[38;5;241m.\u001b[39mRESOURCE_EXHAUSTED:\n",
      "\u001b[0;31mFileNotFoundError\u001b[0m: Benchmark not found",
      "\nDuring handling of the above exception, another exception occurred:\n",
      "\u001b[0;31mKeyboardInterrupt\u001b[0m                         Traceback (most recent call last)",
      "Cell \u001b[0;32mIn[4], line 8\u001b[0m\n\u001b[1;32m      2\u001b[0m \u001b[38;5;28;01mfor\u001b[39;00m bm \u001b[38;5;129;01min\u001b[39;00m bms:\n\u001b[1;32m      3\u001b[0m     env \u001b[38;5;241m=\u001b[39m compiler_gym\u001b[38;5;241m.\u001b[39mmake(\n\u001b[1;32m      4\u001b[0m         \u001b[38;5;124m'\u001b[39m\u001b[38;5;124mllvm-v0\u001b[39m\u001b[38;5;124m'\u001b[39m,\n\u001b[1;32m      5\u001b[0m         benchmark\u001b[38;5;241m=\u001b[39mbm,\n\u001b[1;32m      6\u001b[0m         observation_space\u001b[38;5;241m=\u001b[39m\u001b[38;5;124m'\u001b[39m\u001b[38;5;124mPrograml\u001b[39m\u001b[38;5;124m'\u001b[39m\n\u001b[1;32m      7\u001b[0m     )\n\u001b[0;32m----> 8\u001b[0m     obs \u001b[38;5;241m=\u001b[39m \u001b[43menv\u001b[49m\u001b[38;5;241;43m.\u001b[39;49m\u001b[43mreset\u001b[49m\u001b[43m(\u001b[49m\u001b[43m)\u001b[49m\n\u001b[1;32m      9\u001b[0m     n \u001b[38;5;241m=\u001b[39m obs\u001b[38;5;241m.\u001b[39mnumber_of_nodes()\n\u001b[1;32m     10\u001b[0m     e \u001b[38;5;241m=\u001b[39m obs\u001b[38;5;241m.\u001b[39mnumber_of_edges()\n",
      "File \u001b[0;32m~/.pyenv/versions/3.9.16/envs/py39/lib/python3.9/site-packages/compiler_gym/envs/llvm/llvm_env.py:366\u001b[0m, in \u001b[0;36mLlvmEnv.reset\u001b[0;34m(self, *args, **kwargs)\u001b[0m\n\u001b[1;32m    364\u001b[0m \u001b[38;5;28;01mdef\u001b[39;00m \u001b[38;5;21mreset\u001b[39m(\u001b[38;5;28mself\u001b[39m, \u001b[38;5;241m*\u001b[39margs, \u001b[38;5;241m*\u001b[39m\u001b[38;5;241m*\u001b[39mkwargs):\n\u001b[1;32m    365\u001b[0m     \u001b[38;5;28;01mtry\u001b[39;00m:\n\u001b[0;32m--> 366\u001b[0m         \u001b[38;5;28;01mreturn\u001b[39;00m \u001b[38;5;28;43msuper\u001b[39;49m\u001b[43m(\u001b[49m\u001b[43m)\u001b[49m\u001b[38;5;241;43m.\u001b[39;49m\u001b[43mreset\u001b[49m\u001b[43m(\u001b[49m\u001b[38;5;241;43m*\u001b[39;49m\u001b[43margs\u001b[49m\u001b[43m,\u001b[49m\u001b[43m \u001b[49m\u001b[38;5;241;43m*\u001b[39;49m\u001b[38;5;241;43m*\u001b[39;49m\u001b[43mkwargs\u001b[49m\u001b[43m)\u001b[49m\n\u001b[1;32m    367\u001b[0m     \u001b[38;5;28;01mexcept\u001b[39;00m \u001b[38;5;167;01mValueError\u001b[39;00m \u001b[38;5;28;01mas\u001b[39;00m e:\n\u001b[1;32m    368\u001b[0m         \u001b[38;5;66;03m# Catch and re-raise some known benchmark initialization errors with\u001b[39;00m\n\u001b[1;32m    369\u001b[0m         \u001b[38;5;66;03m# a more informative error type.\u001b[39;00m\n\u001b[1;32m    370\u001b[0m         \u001b[38;5;28;01mif\u001b[39;00m \u001b[38;5;124m\"\u001b[39m\u001b[38;5;124mFailed to compute .text size cost\u001b[39m\u001b[38;5;124m\"\u001b[39m \u001b[38;5;129;01min\u001b[39;00m \u001b[38;5;28mstr\u001b[39m(e):\n",
      "File \u001b[0;32m~/.pyenv/versions/3.9.16/envs/py39/lib/python3.9/site-packages/compiler_gym/service/client_service_compiler_env.py:624\u001b[0m, in \u001b[0;36mClientServiceCompilerEnv.reset\u001b[0;34m(self, benchmark, action_space, reward_space, observation_space, timeout)\u001b[0m\n\u001b[1;32m    612\u001b[0m \u001b[38;5;28;01mdef\u001b[39;00m \u001b[38;5;21mreset\u001b[39m(\n\u001b[1;32m    613\u001b[0m     \u001b[38;5;28mself\u001b[39m,\n\u001b[1;32m    614\u001b[0m     benchmark: Optional[Union[\u001b[38;5;28mstr\u001b[39m, Benchmark]] \u001b[38;5;241m=\u001b[39m \u001b[38;5;28;01mNone\u001b[39;00m,\n\u001b[0;32m   (...)\u001b[0m\n\u001b[1;32m    622\u001b[0m     timeout: \u001b[38;5;28mfloat\u001b[39m \u001b[38;5;241m=\u001b[39m \u001b[38;5;241m300\u001b[39m,\n\u001b[1;32m    623\u001b[0m ) \u001b[38;5;241m-\u001b[39m\u001b[38;5;241m>\u001b[39m Optional[ObservationType]:\n\u001b[0;32m--> 624\u001b[0m     \u001b[38;5;28;01mreturn\u001b[39;00m \u001b[38;5;28;43mself\u001b[39;49m\u001b[38;5;241;43m.\u001b[39;49m\u001b[43m_reset\u001b[49m\u001b[43m(\u001b[49m\n\u001b[1;32m    625\u001b[0m \u001b[43m        \u001b[49m\u001b[43mbenchmark\u001b[49m\u001b[38;5;241;43m=\u001b[39;49m\u001b[43mbenchmark\u001b[49m\u001b[43m,\u001b[49m\n\u001b[1;32m    626\u001b[0m \u001b[43m        \u001b[49m\u001b[43maction_space\u001b[49m\u001b[38;5;241;43m=\u001b[39;49m\u001b[43maction_space\u001b[49m\u001b[43m,\u001b[49m\n\u001b[1;32m    627\u001b[0m \u001b[43m        \u001b[49m\u001b[43mobservation_space\u001b[49m\u001b[38;5;241;43m=\u001b[39;49m\u001b[43mobservation_space\u001b[49m\u001b[43m,\u001b[49m\n\u001b[1;32m    628\u001b[0m \u001b[43m        \u001b[49m\u001b[43mreward_space\u001b[49m\u001b[38;5;241;43m=\u001b[39;49m\u001b[43mreward_space\u001b[49m\u001b[43m,\u001b[49m\n\u001b[1;32m    629\u001b[0m \u001b[43m        \u001b[49m\u001b[43mtimeout\u001b[49m\u001b[38;5;241;43m=\u001b[39;49m\u001b[43mtimeout\u001b[49m\u001b[43m,\u001b[49m\n\u001b[1;32m    630\u001b[0m \u001b[43m        \u001b[49m\u001b[43mretry_count\u001b[49m\u001b[38;5;241;43m=\u001b[39;49m\u001b[38;5;241;43m0\u001b[39;49m\u001b[43m,\u001b[49m\n\u001b[1;32m    631\u001b[0m \u001b[43m    \u001b[49m\u001b[43m)\u001b[49m\n",
      "File \u001b[0;32m~/.pyenv/versions/3.9.16/envs/py39/lib/python3.9/site-packages/compiler_gym/service/client_service_compiler_env.py:774\u001b[0m, in \u001b[0;36mClientServiceCompilerEnv._reset\u001b[0;34m(self, benchmark, action_space, observation_space, reward_space, timeout, retry_count)\u001b[0m\n\u001b[1;32m    772\u001b[0m \u001b[38;5;28;01mif\u001b[39;00m error:\n\u001b[1;32m    773\u001b[0m     \u001b[38;5;28;01mreturn\u001b[39;00m _retry(error)\n\u001b[0;32m--> 774\u001b[0m error, reply \u001b[38;5;241m=\u001b[39m \u001b[43m_call_with_error\u001b[49m\u001b[43m(\u001b[49m\n\u001b[1;32m    775\u001b[0m \u001b[43m    \u001b[49m\u001b[38;5;28;43mself\u001b[39;49m\u001b[38;5;241;43m.\u001b[39;49m\u001b[43mservice\u001b[49m\u001b[38;5;241;43m.\u001b[39;49m\u001b[43mstub\u001b[49m\u001b[38;5;241;43m.\u001b[39;49m\u001b[43mStartSession\u001b[49m\u001b[43m,\u001b[49m\u001b[43m \u001b[49m\u001b[43mstart_session_request\u001b[49m\n\u001b[1;32m    776\u001b[0m \u001b[43m\u001b[49m\u001b[43m)\u001b[49m\n\u001b[1;32m    777\u001b[0m \u001b[38;5;28;01mif\u001b[39;00m error:\n\u001b[1;32m    778\u001b[0m     \u001b[38;5;28;01mreturn\u001b[39;00m _retry(error)\n",
      "File \u001b[0;32m~/.pyenv/versions/3.9.16/envs/py39/lib/python3.9/site-packages/compiler_gym/service/client_service_compiler_env.py:695\u001b[0m, in \u001b[0;36mClientServiceCompilerEnv._reset.<locals>._call_with_error\u001b[0;34m(stub_method, *args, **kwargs)\u001b[0m\n\u001b[1;32m    693\u001b[0m \u001b[38;5;250m\u001b[39m\u001b[38;5;124;03m\"\"\"Call the given stub method. And return an <error, return> tuple.\"\"\"\u001b[39;00m\n\u001b[1;32m    694\u001b[0m \u001b[38;5;28;01mtry\u001b[39;00m:\n\u001b[0;32m--> 695\u001b[0m     \u001b[38;5;28;01mreturn\u001b[39;00m \u001b[38;5;28;01mNone\u001b[39;00m, \u001b[38;5;28;43mself\u001b[39;49m\u001b[38;5;241;43m.\u001b[39;49m\u001b[43mservice\u001b[49m\u001b[43m(\u001b[49m\u001b[43mstub_method\u001b[49m\u001b[43m,\u001b[49m\u001b[43m \u001b[49m\u001b[38;5;241;43m*\u001b[39;49m\u001b[43margs\u001b[49m\u001b[43m,\u001b[49m\u001b[43m \u001b[49m\u001b[38;5;241;43m*\u001b[39;49m\u001b[38;5;241;43m*\u001b[39;49m\u001b[43mkwargs\u001b[49m\u001b[43m)\u001b[49m\n\u001b[1;32m    696\u001b[0m \u001b[38;5;28;01mexcept\u001b[39;00m (ServiceError, ServiceTransportError, \u001b[38;5;167;01mTimeoutError\u001b[39;00m) \u001b[38;5;28;01mas\u001b[39;00m e:\n\u001b[1;32m    697\u001b[0m     \u001b[38;5;28;01mreturn\u001b[39;00m e, \u001b[38;5;28;01mNone\u001b[39;00m\n",
      "File \u001b[0;32m~/.pyenv/versions/3.9.16/envs/py39/lib/python3.9/site-packages/compiler_gym/service/connection.py:813\u001b[0m, in \u001b[0;36mCompilerGymServiceConnection.__call__\u001b[0;34m(self, stub_method, request, timeout, max_retries, retry_wait_seconds, retry_wait_backoff_exponent)\u001b[0m\n\u001b[1;32m    811\u001b[0m \u001b[38;5;28;01mif\u001b[39;00m \u001b[38;5;28mself\u001b[39m\u001b[38;5;241m.\u001b[39mclosed:\n\u001b[1;32m    812\u001b[0m     \u001b[38;5;28mself\u001b[39m\u001b[38;5;241m.\u001b[39m_establish_connection()\n\u001b[0;32m--> 813\u001b[0m \u001b[38;5;28;01mreturn\u001b[39;00m \u001b[38;5;28;43mself\u001b[39;49m\u001b[38;5;241;43m.\u001b[39;49m\u001b[43mconnection\u001b[49m\u001b[43m(\u001b[49m\n\u001b[1;32m    814\u001b[0m \u001b[43m    \u001b[49m\u001b[43mstub_method\u001b[49m\u001b[43m,\u001b[49m\n\u001b[1;32m    815\u001b[0m \u001b[43m    \u001b[49m\u001b[43mrequest\u001b[49m\u001b[43m,\u001b[49m\n\u001b[1;32m    816\u001b[0m \u001b[43m    \u001b[49m\u001b[43mtimeout\u001b[49m\u001b[38;5;241;43m=\u001b[39;49m\u001b[43mtimeout\u001b[49m\u001b[43m,\u001b[49m\n\u001b[1;32m    817\u001b[0m \u001b[43m    \u001b[49m\u001b[43mmax_retries\u001b[49m\u001b[38;5;241;43m=\u001b[39;49m\u001b[43mmax_retries\u001b[49m\u001b[43m \u001b[49m\u001b[38;5;129;43;01mor\u001b[39;49;00m\u001b[43m \u001b[49m\u001b[38;5;28;43mself\u001b[39;49m\u001b[38;5;241;43m.\u001b[39;49m\u001b[43mopts\u001b[49m\u001b[38;5;241;43m.\u001b[39;49m\u001b[43mrpc_max_retries\u001b[49m\u001b[43m,\u001b[49m\n\u001b[1;32m    818\u001b[0m \u001b[43m    \u001b[49m\u001b[43mretry_wait_seconds\u001b[49m\u001b[38;5;241;43m=\u001b[39;49m\u001b[43mretry_wait_seconds\u001b[49m\u001b[43m \u001b[49m\u001b[38;5;129;43;01mor\u001b[39;49;00m\u001b[43m \u001b[49m\u001b[38;5;28;43mself\u001b[39;49m\u001b[38;5;241;43m.\u001b[39;49m\u001b[43mopts\u001b[49m\u001b[38;5;241;43m.\u001b[39;49m\u001b[43mretry_wait_seconds\u001b[49m\u001b[43m,\u001b[49m\n\u001b[1;32m    819\u001b[0m \u001b[43m    \u001b[49m\u001b[43mretry_wait_backoff_exponent\u001b[49m\u001b[38;5;241;43m=\u001b[39;49m\u001b[43m(\u001b[49m\n\u001b[1;32m    820\u001b[0m \u001b[43m        \u001b[49m\u001b[43mretry_wait_backoff_exponent\u001b[49m\u001b[43m \u001b[49m\u001b[38;5;129;43;01mor\u001b[39;49;00m\u001b[43m \u001b[49m\u001b[38;5;28;43mself\u001b[39;49m\u001b[38;5;241;43m.\u001b[39;49m\u001b[43mopts\u001b[49m\u001b[38;5;241;43m.\u001b[39;49m\u001b[43mretry_wait_backoff_exponent\u001b[49m\n\u001b[1;32m    821\u001b[0m \u001b[43m    \u001b[49m\u001b[43m)\u001b[49m\u001b[43m,\u001b[49m\n\u001b[1;32m    822\u001b[0m \u001b[43m\u001b[49m\u001b[43m)\u001b[49m\n",
      "File \u001b[0;32m~/.pyenv/versions/3.9.16/envs/py39/lib/python3.9/site-packages/compiler_gym/service/connection.py:201\u001b[0m, in \u001b[0;36mConnection.__call__\u001b[0;34m(self, stub_method, request, timeout, max_retries, retry_wait_seconds, retry_wait_backoff_exponent)\u001b[0m\n\u001b[1;32m    199\u001b[0m \u001b[38;5;28;01mwhile\u001b[39;00m \u001b[38;5;28;01mTrue\u001b[39;00m:\n\u001b[1;32m    200\u001b[0m     \u001b[38;5;28;01mtry\u001b[39;00m:\n\u001b[0;32m--> 201\u001b[0m         \u001b[38;5;28;01mreturn\u001b[39;00m \u001b[43mstub_method\u001b[49m\u001b[43m(\u001b[49m\u001b[43mrequest\u001b[49m\u001b[43m,\u001b[49m\u001b[43m \u001b[49m\u001b[43mtimeout\u001b[49m\u001b[38;5;241;43m=\u001b[39;49m\u001b[43mtimeout\u001b[49m\u001b[43m)\u001b[49m\n\u001b[1;32m    202\u001b[0m     \u001b[38;5;28;01mexcept\u001b[39;00m \u001b[38;5;167;01mValueError\u001b[39;00m \u001b[38;5;28;01mas\u001b[39;00m e:\n\u001b[1;32m    203\u001b[0m         \u001b[38;5;28;01mif\u001b[39;00m \u001b[38;5;28mstr\u001b[39m(e) \u001b[38;5;241m==\u001b[39m \u001b[38;5;124m\"\u001b[39m\u001b[38;5;124mCannot invoke RPC on closed channel!\u001b[39m\u001b[38;5;124m\"\u001b[39m:\n",
      "File \u001b[0;32m~/.pyenv/versions/3.9.16/envs/py39/lib/python3.9/site-packages/grpc/_channel.py:944\u001b[0m, in \u001b[0;36m_UnaryUnaryMultiCallable.__call__\u001b[0;34m(self, request, timeout, metadata, credentials, wait_for_ready, compression)\u001b[0m\n\u001b[1;32m    937\u001b[0m \u001b[38;5;28;01mdef\u001b[39;00m \u001b[38;5;21m__call__\u001b[39m(\u001b[38;5;28mself\u001b[39m,\n\u001b[1;32m    938\u001b[0m              request,\n\u001b[1;32m    939\u001b[0m              timeout\u001b[38;5;241m=\u001b[39m\u001b[38;5;28;01mNone\u001b[39;00m,\n\u001b[0;32m   (...)\u001b[0m\n\u001b[1;32m    942\u001b[0m              wait_for_ready\u001b[38;5;241m=\u001b[39m\u001b[38;5;28;01mNone\u001b[39;00m,\n\u001b[1;32m    943\u001b[0m              compression\u001b[38;5;241m=\u001b[39m\u001b[38;5;28;01mNone\u001b[39;00m):\n\u001b[0;32m--> 944\u001b[0m     state, call, \u001b[38;5;241m=\u001b[39m \u001b[38;5;28;43mself\u001b[39;49m\u001b[38;5;241;43m.\u001b[39;49m\u001b[43m_blocking\u001b[49m\u001b[43m(\u001b[49m\u001b[43mrequest\u001b[49m\u001b[43m,\u001b[49m\u001b[43m \u001b[49m\u001b[43mtimeout\u001b[49m\u001b[43m,\u001b[49m\u001b[43m \u001b[49m\u001b[43mmetadata\u001b[49m\u001b[43m,\u001b[49m\u001b[43m \u001b[49m\u001b[43mcredentials\u001b[49m\u001b[43m,\u001b[49m\n\u001b[1;32m    945\u001b[0m \u001b[43m                                  \u001b[49m\u001b[43mwait_for_ready\u001b[49m\u001b[43m,\u001b[49m\u001b[43m \u001b[49m\u001b[43mcompression\u001b[49m\u001b[43m)\u001b[49m\n\u001b[1;32m    946\u001b[0m     \u001b[38;5;28;01mreturn\u001b[39;00m _end_unary_response_blocking(state, call, \u001b[38;5;28;01mFalse\u001b[39;00m, \u001b[38;5;28;01mNone\u001b[39;00m)\n",
      "File \u001b[0;32m~/.pyenv/versions/3.9.16/envs/py39/lib/python3.9/site-packages/grpc/_channel.py:933\u001b[0m, in \u001b[0;36m_UnaryUnaryMultiCallable._blocking\u001b[0;34m(self, request, timeout, metadata, credentials, wait_for_ready, compression)\u001b[0m\n\u001b[1;32m    925\u001b[0m \u001b[38;5;28;01melse\u001b[39;00m:\n\u001b[1;32m    926\u001b[0m     call \u001b[38;5;241m=\u001b[39m \u001b[38;5;28mself\u001b[39m\u001b[38;5;241m.\u001b[39m_channel\u001b[38;5;241m.\u001b[39msegregated_call(\n\u001b[1;32m    927\u001b[0m         cygrpc\u001b[38;5;241m.\u001b[39mPropagationConstants\u001b[38;5;241m.\u001b[39mGRPC_PROPAGATE_DEFAULTS,\n\u001b[1;32m    928\u001b[0m         \u001b[38;5;28mself\u001b[39m\u001b[38;5;241m.\u001b[39m_method, \u001b[38;5;28;01mNone\u001b[39;00m, _determine_deadline(deadline), metadata,\n\u001b[0;32m   (...)\u001b[0m\n\u001b[1;32m    931\u001b[0m             \u001b[38;5;28;01mNone\u001b[39;00m,\n\u001b[1;32m    932\u001b[0m         ),), \u001b[38;5;28mself\u001b[39m\u001b[38;5;241m.\u001b[39m_context)\n\u001b[0;32m--> 933\u001b[0m     event \u001b[38;5;241m=\u001b[39m \u001b[43mcall\u001b[49m\u001b[38;5;241;43m.\u001b[39;49m\u001b[43mnext_event\u001b[49m\u001b[43m(\u001b[49m\u001b[43m)\u001b[49m\n\u001b[1;32m    934\u001b[0m     _handle_event(event, state, \u001b[38;5;28mself\u001b[39m\u001b[38;5;241m.\u001b[39m_response_deserializer)\n\u001b[1;32m    935\u001b[0m     \u001b[38;5;28;01mreturn\u001b[39;00m state, call\n",
      "File \u001b[0;32msrc/python/grpcio/grpc/_cython/_cygrpc/channel.pyx.pxi:338\u001b[0m, in \u001b[0;36mgrpc._cython.cygrpc.SegregatedCall.next_event\u001b[0;34m()\u001b[0m\n",
      "File \u001b[0;32msrc/python/grpcio/grpc/_cython/_cygrpc/channel.pyx.pxi:171\u001b[0m, in \u001b[0;36mgrpc._cython.cygrpc._next_call_event\u001b[0;34m()\u001b[0m\n",
      "File \u001b[0;32m~/.pyenv/versions/3.9.16/lib/python3.9/threading.py:256\u001b[0m, in \u001b[0;36mCondition.__enter__\u001b[0;34m(self)\u001b[0m\n\u001b[1;32m    253\u001b[0m     \u001b[38;5;28mself\u001b[39m\u001b[38;5;241m.\u001b[39m_lock\u001b[38;5;241m.\u001b[39m_at_fork_reinit()\n\u001b[1;32m    254\u001b[0m     \u001b[38;5;28mself\u001b[39m\u001b[38;5;241m.\u001b[39m_waiters\u001b[38;5;241m.\u001b[39mclear()\n\u001b[0;32m--> 256\u001b[0m \u001b[38;5;28;01mdef\u001b[39;00m \u001b[38;5;21m__enter__\u001b[39m(\u001b[38;5;28mself\u001b[39m):\n\u001b[1;32m    257\u001b[0m     \u001b[38;5;28;01mreturn\u001b[39;00m \u001b[38;5;28mself\u001b[39m\u001b[38;5;241m.\u001b[39m_lock\u001b[38;5;241m.\u001b[39m\u001b[38;5;21m__enter__\u001b[39m()\n\u001b[1;32m    259\u001b[0m \u001b[38;5;28;01mdef\u001b[39;00m \u001b[38;5;21m__exit__\u001b[39m(\u001b[38;5;28mself\u001b[39m, \u001b[38;5;241m*\u001b[39margs):\n",
      "\u001b[0;31mKeyboardInterrupt\u001b[0m: "
     ]
    }
   ],
   "source": [
    "bms = list(env.datasets['benchmark://cbench-v1'].benchmark_uris())\n",
    "for bm in bms:\n",
    "    env = compiler_gym.make(\n",
    "        'llvm-v0',\n",
    "        benchmark=bm,\n",
    "        observation_space='Programl'\n",
    "    )\n",
    "    obs = env.reset()\n",
    "    n = obs.number_of_nodes()\n",
    "    e = obs.number_of_edges()\n",
    "    print(bm, 'node size:', n, 'edge size:', e)"
   ]
  },
  {
   "cell_type": "code",
   "execution_count": 5,
   "id": "980a4082",
   "metadata": {},
   "outputs": [],
   "source": [
    "def make_env(bm):\n",
    "    env = compiler_gym.make(\n",
    "        'llvm-v0',\n",
    "        benchmark=bm,\n",
    "        observation_space='Autophase'\n",
    "    )\n",
    "    env = RuntimePointEstimateReward(env)\n",
    "\n",
    "    return env"
   ]
  },
  {
   "cell_type": "code",
   "execution_count": 6,
   "id": "86850824",
   "metadata": {},
   "outputs": [],
   "source": [
    "def runtime(env):\n",
    "    env.unwrapped.observation[\"Runtime\"]  # warmup\n",
    "    runtimes_o3 = env.unwrapped.observation[\"Runtime\"].tolist()\n",
    "    \n",
    "    return estimator(runtimes_o3)"
   ]
  },
  {
   "cell_type": "code",
   "execution_count": 62,
   "id": "938ca6b5",
   "metadata": {},
   "outputs": [],
   "source": [
    "bms = ['benchmark://chstone-v0/adpcm',\n",
    " 'benchmark://chstone-v0/aes',\n",
    " 'benchmark://chstone-v0/blowfish',\n",
    " 'benchmark://chstone-v0/dfadd',\n",
    " 'benchmark://chstone-v0/dfdiv',\n",
    " 'benchmark://chstone-v0/dfmul',\n",
    " 'benchmark://chstone-v0/dfsin',\n",
    " 'benchmark://chstone-v0/gsm',\n",
    " 'benchmark://chstone-v0/jpeg',\n",
    " 'benchmark://chstone-v0/mips',\n",
    " 'benchmark://chstone-v0/motion',\n",
    " 'benchmark://chstone-v0/sha']"
   ]
  },
  {
   "cell_type": "code",
   "execution_count": 65,
   "id": "43c281ea",
   "metadata": {},
   "outputs": [
    {
     "name": "stdout",
     "output_type": "stream",
     "text": [
      "0.7510148396201433\n",
      "0.9832047986289632\n",
      "2.1084607393690296\n",
      "1.2438732815301852\n",
      "1.006625347296431\n",
      "0.47261352453254596\n",
      "0.9041830116130035\n",
      "1.0180649361217349\n",
      "0.9583333333333334\n",
      "0.8600723595066143\n",
      "1.0080596413459602\n",
      "1.0102554179566563\n",
      "0.7291480663502654\n",
      "0.6839989815218974\n",
      "1.1304347826086958\n",
      "1.3347248576850095\n",
      "1.4230430958663147\n",
      "0.6778597927104448\n"
     ]
    }
   ],
   "source": [
    "res = {}\n",
    "o3_res = {}\n",
    "speedups = []\n",
    "for bm in RUNNABLE_BMS:\n",
    "    env = make_env(bm)\n",
    "    speedup = target.final_reward(env)\n",
    "    print(speedup)\n",
    "    speedups.append(speedup)\n",
    "#     env.reset()\n",
    "#     res[bm] = runtime(env)\n",
    "    \n",
    "#     env = make_env(bm)\n",
    "    \n",
    "#     env.reset()\n",
    "#     env.send_param(\"llvm.apply_baseline_optimizations\", \"-O3\")\n",
    "#     o3_res[bm] = runtime(env)"
   ]
  },
  {
   "cell_type": "code",
   "execution_count": 58,
   "id": "009163b3",
   "metadata": {},
   "outputs": [
    {
     "data": {
      "text/plain": [
       "9"
      ]
     },
     "execution_count": 58,
     "metadata": {},
     "output_type": "execute_result"
    }
   ],
   "source": [
    "(np.array(speedups) > 1).sum()"
   ]
  },
  {
   "cell_type": "code",
   "execution_count": 10,
   "id": "6e6eac85",
   "metadata": {},
   "outputs": [
    {
     "data": {
      "text/plain": [
       "{'benchmark://cbench-v1/bitcount': 0.151849,\n",
       " 'benchmark://cbench-v1/blowfish': 0.0035884999999999997,\n",
       " 'benchmark://cbench-v1/bzip2': 0.097198,\n",
       " 'benchmark://cbench-v1/crc32': 0.0038705,\n",
       " 'benchmark://cbench-v1/dijkstra': 0.0023225,\n",
       " 'benchmark://cbench-v1/gsm': 0.035087999999999994,\n",
       " 'benchmark://cbench-v1/jpeg-c': 0.018074,\n",
       " 'benchmark://cbench-v1/jpeg-d': 0.007137,\n",
       " 'benchmark://cbench-v1/patricia': 0.0024574999999999996,\n",
       " 'benchmark://cbench-v1/qsort': 0.042591000000000004,\n",
       " 'benchmark://cbench-v1/sha': 0.0028855,\n",
       " 'benchmark://cbench-v1/stringsearch': 0.002953,\n",
       " 'benchmark://cbench-v1/stringsearch2': 0.0105525,\n",
       " 'benchmark://cbench-v1/susan': 0.025582,\n",
       " 'benchmark://cbench-v1/tiff2bw': 0.0089245,\n",
       " 'benchmark://cbench-v1/tiff2rgba': 0.0105755,\n",
       " 'benchmark://cbench-v1/tiffdither': 0.0077925,\n",
       " 'benchmark://cbench-v1/tiffmedian': 0.013024500000000001}"
      ]
     },
     "execution_count": 10,
     "metadata": {},
     "output_type": "execute_result"
    }
   ],
   "source": [
    "res"
   ]
  },
  {
   "cell_type": "code",
   "execution_count": 11,
   "id": "a099edeb",
   "metadata": {},
   "outputs": [
    {
     "data": {
      "text/plain": [
       "{'benchmark://cbench-v1/bitcount': 0.12199650000000001,\n",
       " 'benchmark://cbench-v1/blowfish': 0.0038335,\n",
       " 'benchmark://cbench-v1/bzip2': 0.1818715,\n",
       " 'benchmark://cbench-v1/crc32': 0.004181000000000001,\n",
       " 'benchmark://cbench-v1/dijkstra': 0.0026100000000000003,\n",
       " 'benchmark://cbench-v1/gsm': 0.0244225,\n",
       " 'benchmark://cbench-v1/jpeg-c': 0.017019,\n",
       " 'benchmark://cbench-v1/jpeg-d': 0.0085135,\n",
       " 'benchmark://cbench-v1/patricia': 0.0029365,\n",
       " 'benchmark://cbench-v1/qsort': 0.031739500000000004,\n",
       " 'benchmark://cbench-v1/sha': 0.0025325,\n",
       " 'benchmark://cbench-v1/stringsearch': 0.002928,\n",
       " 'benchmark://cbench-v1/stringsearch2': 0.007665999999999999,\n",
       " 'benchmark://cbench-v1/susan': 0.019978,\n",
       " 'benchmark://cbench-v1/tiff2bw': 0.010589000000000001,\n",
       " 'benchmark://cbench-v1/tiff2rgba': 0.016427999999999998,\n",
       " 'benchmark://cbench-v1/tiffdither': 0.008409,\n",
       " 'benchmark://cbench-v1/tiffmedian': 0.012163}"
      ]
     },
     "execution_count": 11,
     "metadata": {},
     "output_type": "execute_result"
    }
   ],
   "source": [
    "o3_res"
   ]
  },
  {
   "cell_type": "code",
   "execution_count": 13,
   "id": "2d2d9522",
   "metadata": {},
   "outputs": [
    {
     "data": {
      "text/plain": [
       "{'benchmark://cbench-v1/bitcount': 0.149324,\n",
       " 'benchmark://cbench-v1/blowfish': 0.0037015,\n",
       " 'benchmark://cbench-v1/bzip2': 0.09635650000000001,\n",
       " 'benchmark://cbench-v1/crc32': 0.0034289999999999998,\n",
       " 'benchmark://cbench-v1/dijkstra': 0.002533,\n",
       " 'benchmark://cbench-v1/gsm': 0.036967,\n",
       " 'benchmark://cbench-v1/jpeg-c': 0.0176065,\n",
       " 'benchmark://cbench-v1/jpeg-d': 0.008311,\n",
       " 'benchmark://cbench-v1/patricia': 0.0026905,\n",
       " 'benchmark://cbench-v1/qsort': 0.032676,\n",
       " 'benchmark://cbench-v1/sha': 0.0027595,\n",
       " 'benchmark://cbench-v1/stringsearch': 0.0025814999999999996,\n",
       " 'benchmark://cbench-v1/stringsearch2': 0.0090225,\n",
       " 'benchmark://cbench-v1/susan': 0.030331999999999998,\n",
       " 'benchmark://cbench-v1/tiff2bw': 0.009843500000000002,\n",
       " 'benchmark://cbench-v1/tiff2rgba': 0.012143000000000001,\n",
       " 'benchmark://cbench-v1/tiffdither': 0.0087895,\n",
       " 'benchmark://cbench-v1/tiffmedian': 0.011491}"
      ]
     },
     "execution_count": 13,
     "metadata": {},
     "output_type": "execute_result"
    }
   ],
   "source": [
    "res"
   ]
  },
  {
   "cell_type": "code",
   "execution_count": 14,
   "id": "7577734f",
   "metadata": {},
   "outputs": [
    {
     "data": {
      "text/plain": [
       "{'benchmark://cbench-v1/bitcount': 0.1208835,\n",
       " 'benchmark://cbench-v1/blowfish': 0.0037194999999999997,\n",
       " 'benchmark://cbench-v1/bzip2': 0.19269950000000002,\n",
       " 'benchmark://cbench-v1/crc32': 0.0034159999999999998,\n",
       " 'benchmark://cbench-v1/dijkstra': 0.00297,\n",
       " 'benchmark://cbench-v1/gsm': 0.023918500000000002,\n",
       " 'benchmark://cbench-v1/jpeg-c': 0.015954000000000003,\n",
       " 'benchmark://cbench-v1/jpeg-d': 0.006951,\n",
       " 'benchmark://cbench-v1/patricia': 0.0027254999999999996,\n",
       " 'benchmark://cbench-v1/qsort': 0.031465,\n",
       " 'benchmark://cbench-v1/sha': 0.002719,\n",
       " 'benchmark://cbench-v1/stringsearch': 0.003478,\n",
       " 'benchmark://cbench-v1/stringsearch2': 0.0066175,\n",
       " 'benchmark://cbench-v1/susan': 0.0198905,\n",
       " 'benchmark://cbench-v1/tiff2bw': 0.011373000000000001,\n",
       " 'benchmark://cbench-v1/tiff2rgba': 0.0169615,\n",
       " 'benchmark://cbench-v1/tiffdither': 0.009925,\n",
       " 'benchmark://cbench-v1/tiffmedian': 0.012907}"
      ]
     },
     "execution_count": 14,
     "metadata": {},
     "output_type": "execute_result"
    }
   ],
   "source": [
    "o3_res"
   ]
  },
  {
   "cell_type": "code",
   "execution_count": 19,
   "id": "b8e4ec63",
   "metadata": {},
   "outputs": [],
   "source": [
    "df = pd.DataFrame([res, o3_res]).T"
   ]
  },
  {
   "cell_type": "code",
   "execution_count": 20,
   "id": "ba975696",
   "metadata": {},
   "outputs": [
    {
     "data": {
      "text/html": [
       "<div>\n",
       "<style scoped>\n",
       "    .dataframe tbody tr th:only-of-type {\n",
       "        vertical-align: middle;\n",
       "    }\n",
       "\n",
       "    .dataframe tbody tr th {\n",
       "        vertical-align: top;\n",
       "    }\n",
       "\n",
       "    .dataframe thead th {\n",
       "        text-align: right;\n",
       "    }\n",
       "</style>\n",
       "<table border=\"1\" class=\"dataframe\">\n",
       "  <thead>\n",
       "    <tr style=\"text-align: right;\">\n",
       "      <th></th>\n",
       "      <th>0</th>\n",
       "      <th>1</th>\n",
       "    </tr>\n",
       "  </thead>\n",
       "  <tbody>\n",
       "    <tr>\n",
       "      <th>benchmark://cbench-v1/bitcount</th>\n",
       "      <td>0.149324</td>\n",
       "      <td>0.120884</td>\n",
       "    </tr>\n",
       "    <tr>\n",
       "      <th>benchmark://cbench-v1/blowfish</th>\n",
       "      <td>0.003701</td>\n",
       "      <td>0.003719</td>\n",
       "    </tr>\n",
       "    <tr>\n",
       "      <th>benchmark://cbench-v1/bzip2</th>\n",
       "      <td>0.096357</td>\n",
       "      <td>0.192700</td>\n",
       "    </tr>\n",
       "    <tr>\n",
       "      <th>benchmark://cbench-v1/crc32</th>\n",
       "      <td>0.003429</td>\n",
       "      <td>0.003416</td>\n",
       "    </tr>\n",
       "    <tr>\n",
       "      <th>benchmark://cbench-v1/dijkstra</th>\n",
       "      <td>0.002533</td>\n",
       "      <td>0.002970</td>\n",
       "    </tr>\n",
       "    <tr>\n",
       "      <th>benchmark://cbench-v1/gsm</th>\n",
       "      <td>0.036967</td>\n",
       "      <td>0.023919</td>\n",
       "    </tr>\n",
       "    <tr>\n",
       "      <th>benchmark://cbench-v1/jpeg-c</th>\n",
       "      <td>0.017607</td>\n",
       "      <td>0.015954</td>\n",
       "    </tr>\n",
       "    <tr>\n",
       "      <th>benchmark://cbench-v1/jpeg-d</th>\n",
       "      <td>0.008311</td>\n",
       "      <td>0.006951</td>\n",
       "    </tr>\n",
       "    <tr>\n",
       "      <th>benchmark://cbench-v1/patricia</th>\n",
       "      <td>0.002691</td>\n",
       "      <td>0.002725</td>\n",
       "    </tr>\n",
       "    <tr>\n",
       "      <th>benchmark://cbench-v1/qsort</th>\n",
       "      <td>0.032676</td>\n",
       "      <td>0.031465</td>\n",
       "    </tr>\n",
       "    <tr>\n",
       "      <th>benchmark://cbench-v1/sha</th>\n",
       "      <td>0.002759</td>\n",
       "      <td>0.002719</td>\n",
       "    </tr>\n",
       "    <tr>\n",
       "      <th>benchmark://cbench-v1/stringsearch</th>\n",
       "      <td>0.002581</td>\n",
       "      <td>0.003478</td>\n",
       "    </tr>\n",
       "    <tr>\n",
       "      <th>benchmark://cbench-v1/stringsearch2</th>\n",
       "      <td>0.009022</td>\n",
       "      <td>0.006618</td>\n",
       "    </tr>\n",
       "    <tr>\n",
       "      <th>benchmark://cbench-v1/susan</th>\n",
       "      <td>0.030332</td>\n",
       "      <td>0.019890</td>\n",
       "    </tr>\n",
       "    <tr>\n",
       "      <th>benchmark://cbench-v1/tiff2bw</th>\n",
       "      <td>0.009844</td>\n",
       "      <td>0.011373</td>\n",
       "    </tr>\n",
       "    <tr>\n",
       "      <th>benchmark://cbench-v1/tiff2rgba</th>\n",
       "      <td>0.012143</td>\n",
       "      <td>0.016962</td>\n",
       "    </tr>\n",
       "    <tr>\n",
       "      <th>benchmark://cbench-v1/tiffdither</th>\n",
       "      <td>0.008790</td>\n",
       "      <td>0.009925</td>\n",
       "    </tr>\n",
       "    <tr>\n",
       "      <th>benchmark://cbench-v1/tiffmedian</th>\n",
       "      <td>0.011491</td>\n",
       "      <td>0.012907</td>\n",
       "    </tr>\n",
       "  </tbody>\n",
       "</table>\n",
       "</div>"
      ],
      "text/plain": [
       "                                            0         1\n",
       "benchmark://cbench-v1/bitcount       0.149324  0.120884\n",
       "benchmark://cbench-v1/blowfish       0.003701  0.003719\n",
       "benchmark://cbench-v1/bzip2          0.096357  0.192700\n",
       "benchmark://cbench-v1/crc32          0.003429  0.003416\n",
       "benchmark://cbench-v1/dijkstra       0.002533  0.002970\n",
       "benchmark://cbench-v1/gsm            0.036967  0.023919\n",
       "benchmark://cbench-v1/jpeg-c         0.017607  0.015954\n",
       "benchmark://cbench-v1/jpeg-d         0.008311  0.006951\n",
       "benchmark://cbench-v1/patricia       0.002691  0.002725\n",
       "benchmark://cbench-v1/qsort          0.032676  0.031465\n",
       "benchmark://cbench-v1/sha            0.002759  0.002719\n",
       "benchmark://cbench-v1/stringsearch   0.002581  0.003478\n",
       "benchmark://cbench-v1/stringsearch2  0.009022  0.006618\n",
       "benchmark://cbench-v1/susan          0.030332  0.019890\n",
       "benchmark://cbench-v1/tiff2bw        0.009844  0.011373\n",
       "benchmark://cbench-v1/tiff2rgba      0.012143  0.016962\n",
       "benchmark://cbench-v1/tiffdither     0.008790  0.009925\n",
       "benchmark://cbench-v1/tiffmedian     0.011491  0.012907"
      ]
     },
     "execution_count": 20,
     "metadata": {},
     "output_type": "execute_result"
    }
   ],
   "source": [
    "df"
   ]
  },
  {
   "cell_type": "code",
   "execution_count": 23,
   "id": "dfcfb671",
   "metadata": {},
   "outputs": [
    {
     "data": {
      "text/plain": [
       "9"
      ]
     },
     "execution_count": 23,
     "metadata": {},
     "output_type": "execute_result"
    }
   ],
   "source": [
    "(df[0] > df[1]).sum()"
   ]
  },
  {
   "cell_type": "code",
   "execution_count": 32,
   "id": "06412512",
   "metadata": {},
   "outputs": [],
   "source": [
    "df = pd.DataFrame([res, o3_res]).T"
   ]
  },
  {
   "cell_type": "code",
   "execution_count": 33,
   "id": "684f1ed6",
   "metadata": {},
   "outputs": [
    {
     "data": {
      "text/html": [
       "<div>\n",
       "<style scoped>\n",
       "    .dataframe tbody tr th:only-of-type {\n",
       "        vertical-align: middle;\n",
       "    }\n",
       "\n",
       "    .dataframe tbody tr th {\n",
       "        vertical-align: top;\n",
       "    }\n",
       "\n",
       "    .dataframe thead th {\n",
       "        text-align: right;\n",
       "    }\n",
       "</style>\n",
       "<table border=\"1\" class=\"dataframe\">\n",
       "  <thead>\n",
       "    <tr style=\"text-align: right;\">\n",
       "      <th></th>\n",
       "      <th>0</th>\n",
       "      <th>1</th>\n",
       "    </tr>\n",
       "  </thead>\n",
       "  <tbody>\n",
       "    <tr>\n",
       "      <th>benchmark://cbench-v1/bitcount</th>\n",
       "      <td>0.151785</td>\n",
       "      <td>0.149651</td>\n",
       "    </tr>\n",
       "    <tr>\n",
       "      <th>benchmark://cbench-v1/blowfish</th>\n",
       "      <td>0.003610</td>\n",
       "      <td>0.003763</td>\n",
       "    </tr>\n",
       "    <tr>\n",
       "      <th>benchmark://cbench-v1/bzip2</th>\n",
       "      <td>0.100328</td>\n",
       "      <td>0.099518</td>\n",
       "    </tr>\n",
       "    <tr>\n",
       "      <th>benchmark://cbench-v1/crc32</th>\n",
       "      <td>0.004895</td>\n",
       "      <td>0.004829</td>\n",
       "    </tr>\n",
       "    <tr>\n",
       "      <th>benchmark://cbench-v1/dijkstra</th>\n",
       "      <td>0.003322</td>\n",
       "      <td>0.003111</td>\n",
       "    </tr>\n",
       "    <tr>\n",
       "      <th>benchmark://cbench-v1/gsm</th>\n",
       "      <td>0.035873</td>\n",
       "      <td>0.036157</td>\n",
       "    </tr>\n",
       "    <tr>\n",
       "      <th>benchmark://cbench-v1/jpeg-c</th>\n",
       "      <td>0.017641</td>\n",
       "      <td>0.018528</td>\n",
       "    </tr>\n",
       "    <tr>\n",
       "      <th>benchmark://cbench-v1/jpeg-d</th>\n",
       "      <td>0.008636</td>\n",
       "      <td>0.008634</td>\n",
       "    </tr>\n",
       "    <tr>\n",
       "      <th>benchmark://cbench-v1/patricia</th>\n",
       "      <td>0.003569</td>\n",
       "      <td>0.003567</td>\n",
       "    </tr>\n",
       "    <tr>\n",
       "      <th>benchmark://cbench-v1/qsort</th>\n",
       "      <td>0.042244</td>\n",
       "      <td>0.043707</td>\n",
       "    </tr>\n",
       "    <tr>\n",
       "      <th>benchmark://cbench-v1/sha</th>\n",
       "      <td>0.003073</td>\n",
       "      <td>0.003040</td>\n",
       "    </tr>\n",
       "    <tr>\n",
       "      <th>benchmark://cbench-v1/stringsearch</th>\n",
       "      <td>0.003626</td>\n",
       "      <td>0.003876</td>\n",
       "    </tr>\n",
       "    <tr>\n",
       "      <th>benchmark://cbench-v1/stringsearch2</th>\n",
       "      <td>0.009895</td>\n",
       "      <td>0.010680</td>\n",
       "    </tr>\n",
       "    <tr>\n",
       "      <th>benchmark://cbench-v1/susan</th>\n",
       "      <td>0.030274</td>\n",
       "      <td>0.024802</td>\n",
       "    </tr>\n",
       "    <tr>\n",
       "      <th>benchmark://cbench-v1/tiff2bw</th>\n",
       "      <td>0.009334</td>\n",
       "      <td>0.010176</td>\n",
       "    </tr>\n",
       "    <tr>\n",
       "      <th>benchmark://cbench-v1/tiff2rgba</th>\n",
       "      <td>0.011782</td>\n",
       "      <td>0.012797</td>\n",
       "    </tr>\n",
       "    <tr>\n",
       "      <th>benchmark://cbench-v1/tiffdither</th>\n",
       "      <td>0.009425</td>\n",
       "      <td>0.007250</td>\n",
       "    </tr>\n",
       "    <tr>\n",
       "      <th>benchmark://cbench-v1/tiffmedian</th>\n",
       "      <td>0.012965</td>\n",
       "      <td>0.013151</td>\n",
       "    </tr>\n",
       "  </tbody>\n",
       "</table>\n",
       "</div>"
      ],
      "text/plain": [
       "                                            0         1\n",
       "benchmark://cbench-v1/bitcount       0.151785  0.149651\n",
       "benchmark://cbench-v1/blowfish       0.003610  0.003763\n",
       "benchmark://cbench-v1/bzip2          0.100328  0.099518\n",
       "benchmark://cbench-v1/crc32          0.004895  0.004829\n",
       "benchmark://cbench-v1/dijkstra       0.003322  0.003111\n",
       "benchmark://cbench-v1/gsm            0.035873  0.036157\n",
       "benchmark://cbench-v1/jpeg-c         0.017641  0.018528\n",
       "benchmark://cbench-v1/jpeg-d         0.008636  0.008634\n",
       "benchmark://cbench-v1/patricia       0.003569  0.003567\n",
       "benchmark://cbench-v1/qsort          0.042244  0.043707\n",
       "benchmark://cbench-v1/sha            0.003073  0.003040\n",
       "benchmark://cbench-v1/stringsearch   0.003626  0.003876\n",
       "benchmark://cbench-v1/stringsearch2  0.009895  0.010680\n",
       "benchmark://cbench-v1/susan          0.030274  0.024802\n",
       "benchmark://cbench-v1/tiff2bw        0.009334  0.010176\n",
       "benchmark://cbench-v1/tiff2rgba      0.011782  0.012797\n",
       "benchmark://cbench-v1/tiffdither     0.009425  0.007250\n",
       "benchmark://cbench-v1/tiffmedian     0.012965  0.013151"
      ]
     },
     "execution_count": 33,
     "metadata": {},
     "output_type": "execute_result"
    }
   ],
   "source": [
    "df"
   ]
  },
  {
   "cell_type": "code",
   "execution_count": 27,
   "id": "384349a1",
   "metadata": {},
   "outputs": [
    {
     "data": {
      "text/html": [
       "<div>\n",
       "<style scoped>\n",
       "    .dataframe tbody tr th:only-of-type {\n",
       "        vertical-align: middle;\n",
       "    }\n",
       "\n",
       "    .dataframe tbody tr th {\n",
       "        vertical-align: top;\n",
       "    }\n",
       "\n",
       "    .dataframe thead th {\n",
       "        text-align: right;\n",
       "    }\n",
       "</style>\n",
       "<table border=\"1\" class=\"dataframe\">\n",
       "  <thead>\n",
       "    <tr style=\"text-align: right;\">\n",
       "      <th></th>\n",
       "      <th>0</th>\n",
       "      <th>1</th>\n",
       "    </tr>\n",
       "  </thead>\n",
       "  <tbody>\n",
       "    <tr>\n",
       "      <th>benchmark://cbench-v1/bitcount</th>\n",
       "      <td>0.151785</td>\n",
       "      <td>0.149651</td>\n",
       "    </tr>\n",
       "    <tr>\n",
       "      <th>benchmark://cbench-v1/blowfish</th>\n",
       "      <td>0.003610</td>\n",
       "      <td>0.003763</td>\n",
       "    </tr>\n",
       "    <tr>\n",
       "      <th>benchmark://cbench-v1/bzip2</th>\n",
       "      <td>0.100328</td>\n",
       "      <td>0.099518</td>\n",
       "    </tr>\n",
       "    <tr>\n",
       "      <th>benchmark://cbench-v1/crc32</th>\n",
       "      <td>0.004895</td>\n",
       "      <td>0.004829</td>\n",
       "    </tr>\n",
       "    <tr>\n",
       "      <th>benchmark://cbench-v1/dijkstra</th>\n",
       "      <td>0.003322</td>\n",
       "      <td>0.003111</td>\n",
       "    </tr>\n",
       "    <tr>\n",
       "      <th>benchmark://cbench-v1/gsm</th>\n",
       "      <td>0.035873</td>\n",
       "      <td>0.036157</td>\n",
       "    </tr>\n",
       "    <tr>\n",
       "      <th>benchmark://cbench-v1/jpeg-c</th>\n",
       "      <td>0.017641</td>\n",
       "      <td>0.018528</td>\n",
       "    </tr>\n",
       "    <tr>\n",
       "      <th>benchmark://cbench-v1/jpeg-d</th>\n",
       "      <td>0.008636</td>\n",
       "      <td>0.008634</td>\n",
       "    </tr>\n",
       "    <tr>\n",
       "      <th>benchmark://cbench-v1/patricia</th>\n",
       "      <td>0.003569</td>\n",
       "      <td>0.003567</td>\n",
       "    </tr>\n",
       "    <tr>\n",
       "      <th>benchmark://cbench-v1/qsort</th>\n",
       "      <td>0.042244</td>\n",
       "      <td>0.043707</td>\n",
       "    </tr>\n",
       "    <tr>\n",
       "      <th>benchmark://cbench-v1/sha</th>\n",
       "      <td>0.003073</td>\n",
       "      <td>0.003040</td>\n",
       "    </tr>\n",
       "    <tr>\n",
       "      <th>benchmark://cbench-v1/stringsearch</th>\n",
       "      <td>0.003626</td>\n",
       "      <td>0.003876</td>\n",
       "    </tr>\n",
       "    <tr>\n",
       "      <th>benchmark://cbench-v1/stringsearch2</th>\n",
       "      <td>0.009895</td>\n",
       "      <td>0.010680</td>\n",
       "    </tr>\n",
       "    <tr>\n",
       "      <th>benchmark://cbench-v1/susan</th>\n",
       "      <td>0.030274</td>\n",
       "      <td>0.024802</td>\n",
       "    </tr>\n",
       "    <tr>\n",
       "      <th>benchmark://cbench-v1/tiff2bw</th>\n",
       "      <td>0.009334</td>\n",
       "      <td>0.010176</td>\n",
       "    </tr>\n",
       "    <tr>\n",
       "      <th>benchmark://cbench-v1/tiff2rgba</th>\n",
       "      <td>0.011782</td>\n",
       "      <td>0.012797</td>\n",
       "    </tr>\n",
       "    <tr>\n",
       "      <th>benchmark://cbench-v1/tiffdither</th>\n",
       "      <td>0.009425</td>\n",
       "      <td>0.007250</td>\n",
       "    </tr>\n",
       "    <tr>\n",
       "      <th>benchmark://cbench-v1/tiffmedian</th>\n",
       "      <td>0.012965</td>\n",
       "      <td>0.013151</td>\n",
       "    </tr>\n",
       "  </tbody>\n",
       "</table>\n",
       "</div>"
      ],
      "text/plain": [
       "                                            0         1\n",
       "benchmark://cbench-v1/bitcount       0.151785  0.149651\n",
       "benchmark://cbench-v1/blowfish       0.003610  0.003763\n",
       "benchmark://cbench-v1/bzip2          0.100328  0.099518\n",
       "benchmark://cbench-v1/crc32          0.004895  0.004829\n",
       "benchmark://cbench-v1/dijkstra       0.003322  0.003111\n",
       "benchmark://cbench-v1/gsm            0.035873  0.036157\n",
       "benchmark://cbench-v1/jpeg-c         0.017641  0.018528\n",
       "benchmark://cbench-v1/jpeg-d         0.008636  0.008634\n",
       "benchmark://cbench-v1/patricia       0.003569  0.003567\n",
       "benchmark://cbench-v1/qsort          0.042244  0.043707\n",
       "benchmark://cbench-v1/sha            0.003073  0.003040\n",
       "benchmark://cbench-v1/stringsearch   0.003626  0.003876\n",
       "benchmark://cbench-v1/stringsearch2  0.009895  0.010680\n",
       "benchmark://cbench-v1/susan          0.030274  0.024802\n",
       "benchmark://cbench-v1/tiff2bw        0.009334  0.010176\n",
       "benchmark://cbench-v1/tiff2rgba      0.011782  0.012797\n",
       "benchmark://cbench-v1/tiffdither     0.009425  0.007250\n",
       "benchmark://cbench-v1/tiffmedian     0.012965  0.013151"
      ]
     },
     "execution_count": 27,
     "metadata": {},
     "output_type": "execute_result"
    }
   ],
   "source": [
    "df"
   ]
  },
  {
   "cell_type": "code",
   "execution_count": 34,
   "id": "62e9f5f0",
   "metadata": {},
   "outputs": [
    {
     "data": {
      "text/plain": [
       "benchmark://cbench-v1/bitcount          True\n",
       "benchmark://cbench-v1/blowfish         False\n",
       "benchmark://cbench-v1/bzip2             True\n",
       "benchmark://cbench-v1/crc32             True\n",
       "benchmark://cbench-v1/dijkstra          True\n",
       "benchmark://cbench-v1/gsm              False\n",
       "benchmark://cbench-v1/jpeg-c           False\n",
       "benchmark://cbench-v1/jpeg-d            True\n",
       "benchmark://cbench-v1/patricia          True\n",
       "benchmark://cbench-v1/qsort            False\n",
       "benchmark://cbench-v1/sha               True\n",
       "benchmark://cbench-v1/stringsearch     False\n",
       "benchmark://cbench-v1/stringsearch2    False\n",
       "benchmark://cbench-v1/susan             True\n",
       "benchmark://cbench-v1/tiff2bw          False\n",
       "benchmark://cbench-v1/tiff2rgba        False\n",
       "benchmark://cbench-v1/tiffdither        True\n",
       "benchmark://cbench-v1/tiffmedian       False\n",
       "dtype: bool"
      ]
     },
     "execution_count": 34,
     "metadata": {},
     "output_type": "execute_result"
    }
   ],
   "source": [
    "(df[0] > df[1])"
   ]
  },
  {
   "cell_type": "code",
   "execution_count": null,
   "id": "e73482c2",
   "metadata": {},
   "outputs": [],
   "source": []
  }
 ],
 "metadata": {
  "kernelspec": {
   "display_name": "Python 3 (ipykernel)",
   "language": "python",
   "name": "python3"
  },
  "language_info": {
   "codemirror_mode": {
    "name": "ipython",
    "version": 3
   },
   "file_extension": ".py",
   "mimetype": "text/x-python",
   "name": "python",
   "nbconvert_exporter": "python",
   "pygments_lexer": "ipython3",
   "version": "3.9.16"
  }
 },
 "nbformat": 4,
 "nbformat_minor": 5
}
